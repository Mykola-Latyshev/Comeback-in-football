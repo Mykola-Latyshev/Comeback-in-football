{
 "cells": [
  {
   "cell_type": "code",
   "execution_count": 6,
   "id": "irish-brush",
   "metadata": {},
   "outputs": [],
   "source": [
    "import requests\n",
    "import pandas as pd\n",
    "import json"
   ]
  },
  {
   "cell_type": "code",
   "execution_count": 7,
   "id": "straight-newspaper",
   "metadata": {},
   "outputs": [],
   "source": [
    "# get keys from file\n",
    "def get_keys(path):\n",
    "    with open(path) as f:\n",
    "        return json.load(f)"
   ]
  },
  {
   "cell_type": "code",
   "execution_count": 9,
   "id": "federal-bradford",
   "metadata": {},
   "outputs": [],
   "source": [
    "\n",
    "keys = get_keys(\"/API/api_football.json\")\n",
    "api_key = keys['api_key']"
   ]
  },
  {
   "cell_type": "code",
   "execution_count": 10,
   "id": "municipal-battle",
   "metadata": {},
   "outputs": [],
   "source": [
    "# def for url\n",
    "headers = {\n",
    "    'x-rapidapi-host': \"api-football-v1.p.rapidapi.com\",\n",
    "    'x-rapidapi-key': api_key\n",
    "    }\n",
    "\n",
    "def api_call(url):\n",
    "    response = requests.request(\"GET\", url, headers=headers)\n",
    "    # Return a dictionary of the response text\n",
    "    return json.loads(response.text)"
   ]
  },
  {
   "cell_type": "code",
   "execution_count": null,
   "id": "distant-booth",
   "metadata": {},
   "outputs": [],
   "source": [
    "# create base url\n",
    "base_url = 'https://api-football-v1.p.rapidapi.com/v2/'\n",
    "leagues_url = base_url + 'leagues/'"
   ]
  },
  {
   "cell_type": "code",
   "execution_count": null,
   "id": "advance-sterling",
   "metadata": {},
   "outputs": [],
   "source": [
    "# get data response of available leagues\n",
    "available_leagues = api_call(leagues_url)"
   ]
  },
  {
   "cell_type": "code",
   "execution_count": null,
   "id": "clinical-second",
   "metadata": {},
   "outputs": [],
   "source": [
    "# transform to pandas dataframe\n",
    "leagues_df = pd.DataFrame.from_dict(available_leagues['api']['leagues'])"
   ]
  },
  {
   "cell_type": "code",
   "execution_count": null,
   "id": "faced-today",
   "metadata": {},
   "outputs": [],
   "source": [
    "# the id of current England Premier League\n",
    "premier_league_id = leagues_df[(leagues_df.country == 'England') & (leagues_df.season == 2020) & \n",
    "                               (leagues_df.name == 'Premier League')].league_id\n",
    "premier_league_id.values[0]"
   ]
  },
  {
   "cell_type": "code",
   "execution_count": null,
   "id": "artificial-component",
   "metadata": {},
   "outputs": [],
   "source": [
    "league_fixtures = base_url + 'fixtures/league/' + str(league_en_2020_id.values[0])\n",
    "league_fixtures_en_2020 = api_call(league_fixtures)"
   ]
  },
  {
   "cell_type": "code",
   "execution_count": null,
   "id": "normal-hotel",
   "metadata": {},
   "outputs": [],
   "source": [
    "# save data leagues of matches for future (01_02_collect_data)\n",
    "with open('league_fixtures_2020.txt', 'w') as f:\n",
    "    json.dump(league_fixtures_en_2020, f, ensure_ascii=False)"
   ]
  },
  {
   "cell_type": "code",
   "execution_count": null,
   "id": "musical-steel",
   "metadata": {},
   "outputs": [],
   "source": []
  },
  {
   "cell_type": "code",
   "execution_count": null,
   "id": "representative-tradition",
   "metadata": {},
   "outputs": [],
   "source": [
    "# Define an object orientated approach for a match\n",
    "class Match():\n",
    "    def __init__(self, match_json):\n",
    "        self.match_json = match_json\n",
    "        self.home_team = match_json['homeTeam']['team_name']\n",
    "        self.away_team = match_json['awayTeam']['team_name']\n",
    "        self.fixture_id = match_json['fixture_id']\n",
    "        \n",
    "    def fixture(self):\n",
    "        return(self.home_team + ' vs. ' + self.away_team)\n",
    "    \n",
    "    def final_score(self):\n",
    "        return(self.match_json['score']['fulltime'])"
   ]
  },
  {
   "cell_type": "code",
   "execution_count": null,
   "id": "blocked-advantage",
   "metadata": {},
   "outputs": [],
   "source": [
    "class Events:\n",
    "    def __init__(self, match_events_json):\n",
    "        self.n_events = match_events_json['results']\n",
    "        self.events = match_events_json['events']\n",
    "        events_df = pd.DataFrame.from_dict(match_events_json['events'])\n",
    "        self.events_df = events_df\n",
    "        \n",
    "    def goals(self):\n",
    "        goals = self.events_df[self.events_df['type'] == 'Goal'][['type', 'detail', 'player', 'teamName', 'elapsed']].set_index('elapsed')\n",
    "        goals.index.rename('mins', inplace=True)\n",
    "        return(goals)"
   ]
  },
  {
   "cell_type": "code",
   "execution_count": null,
   "id": "statutory-providence",
   "metadata": {},
   "outputs": [],
   "source": []
  },
  {
   "cell_type": "code",
   "execution_count": null,
   "id": "positive-husband",
   "metadata": {},
   "outputs": [],
   "source": [
    "# collect data \n"
   ]
  },
  {
   "cell_type": "code",
   "execution_count": null,
   "id": "metropolitan-fighter",
   "metadata": {},
   "outputs": [],
   "source": [
    "base_url = 'https://api-football-v1.p.rapidapi.com/v2/'\n",
    "events_url = base_url + 'events/'\n",
    "\n",
    "import time\n",
    "\n",
    "num1=0\n",
    "num2=380\n",
    "league_fixtures = league_fixtures_2020\n",
    "\n",
    "for number in range(num1,num2):\n",
    "    # set time sleep 3 second\n",
    "    time.sleep(3)\n",
    "    \n",
    "    number_game = league_fixtures['api']['fixtures'][number]\n",
    "    number_game_obj = Match(number_game)\n",
    "    number_game_url = events_url + str(number_game_obj.fixture_id)\n",
    "    events = api_call(number_game_url)['api']\n",
    "    number_df = pd.DataFrame(data=Events(events).goals(), columns=None)\n",
    "    number_df['id_match'] = number_game_obj.fixture_id\n",
    "    df_ex = number_df\n",
    "    if number>num1:\n",
    "        df = pd.concat([df, df_ex])\n",
    "    else:\n",
    "        df = df_ex"
   ]
  },
  {
   "cell_type": "code",
   "execution_count": null,
   "id": "integrated-ridge",
   "metadata": {},
   "outputs": [],
   "source": [
    "df_en_2020_mins = df.reset_index()"
   ]
  }
 ],
 "metadata": {
  "kernelspec": {
   "display_name": "Python 3.7 (tensorflow)8",
   "language": "python",
   "name": "tensorflow"
  },
  "language_info": {
   "codemirror_mode": {
    "name": "ipython",
    "version": 3
   },
   "file_extension": ".py",
   "mimetype": "text/x-python",
   "name": "python",
   "nbconvert_exporter": "python",
   "pygments_lexer": "ipython3",
   "version": "3.8.5"
  }
 },
 "nbformat": 4,
 "nbformat_minor": 5
}
